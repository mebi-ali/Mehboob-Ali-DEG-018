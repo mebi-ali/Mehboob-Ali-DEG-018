{
 "cells": [
  {
   "cell_type": "code",
   "execution_count": 83,
   "id": "6ec09d0c-8347-4722-8d83-b4c215667dab",
   "metadata": {},
   "outputs": [],
   "source": [
    "import matplotlib.pyplot as plt\n",
    "import numpy as np\n",
    "from sklearn import datasets\n",
    "from sklearn.metrics import f1_score\n",
    "from sklearn.model_selection import train_test_split\n",
    "from sklearn.preprocessing import StandardScaler\n",
    "from sklearn.linear_model import LogisticRegression"
   ]
  },
  {
   "cell_type": "code",
   "execution_count": 84,
   "id": "d9e53584-5d49-4051-b98e-70ef3e903555",
   "metadata": {},
   "outputs": [],
   "source": [
    "# Import the Wine dataset from scikit-learn\n",
    "wine = datasets.load_wine()\n",
    "\n",
    "# Extract the features and target variable from the dataset\n",
    "Wine_Data_x = wine.data[:, 2:]\n",
    "Wine_Data_y = wine.target\n"
   ]
  },
  {
   "cell_type": "code",
   "execution_count": 85,
   "id": "419201cb-9581-4077-801b-07786590f7cc",
   "metadata": {},
   "outputs": [
    {
     "data": {
      "text/plain": [
       "0.9722222222222222"
      ]
     },
     "execution_count": 85,
     "metadata": {},
     "output_type": "execute_result"
    }
   ],
   "source": [
    "# Load the Wine dataset and separate it into training and testing sets\n",
    "Wine_Data = datasets.load_wine()\n",
    "x_train, x_test, y_train, y_test = train_test_split(Wine_Data_x, Wine_Data_y, test_size=0.2)\n",
    "\n",
    "# Scale the training and testing features using the StandardScaler class\n",
    "scaler = StandardScaler()\n",
    "x_train = scaler.fit_transform(x_train)\n",
    "x_test = scaler.transform(x_test)\n",
    "\n",
    "# Create a logistic regression model using the LogisticRegression class and fit it on the training data\n",
    "model = LogisticRegression()\n",
    "model.fit(x_train, y_train)\n",
    "\n",
    "# Use the model to predict the target variable for the testing data\n",
    "y_pred = model.predict(x_test)\n",
    "\n",
    "# Calculate the f1-score to evaluate the accuracy of the model\n",
    "f1_score(y_test, y_pred, average=\"micro\")\n"
   ]
  },
  {
   "cell_type": "code",
   "execution_count": null,
   "id": "0e11b83d-8899-48e8-988a-763b72354657",
   "metadata": {},
   "outputs": [],
   "source": []
  }
 ],
 "metadata": {
  "kernelspec": {
   "display_name": "Python 3 (ipykernel)",
   "language": "python",
   "name": "python3"
  },
  "language_info": {
   "codemirror_mode": {
    "name": "ipython",
    "version": 3
   },
   "file_extension": ".py",
   "mimetype": "text/x-python",
   "name": "python",
   "nbconvert_exporter": "python",
   "pygments_lexer": "ipython3",
   "version": "3.10.9"
  }
 },
 "nbformat": 4,
 "nbformat_minor": 5
}
